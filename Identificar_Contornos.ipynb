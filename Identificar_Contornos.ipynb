{
 "cells": [
  {
   "cell_type": "markdown",
   "metadata": {},
   "source": [
    "### Librerias Necesarias"
   ]
  },
  {
   "cell_type": "code",
   "execution_count": 44,
   "metadata": {},
   "outputs": [],
   "source": [
    "import cv2 as cv"
   ]
  },
  {
   "cell_type": "markdown",
   "metadata": {},
   "source": [
    "La imágen utilizada en este codigo fue sacada de la siguiente página: https://elnacional.com.do/tapones-diarios-sin-horas-pico-en-avenidas-y-calles-del-gsd/ "
   ]
  },
  {
   "cell_type": "markdown",
   "metadata": {},
   "source": [
    "### ETAPA 1"
   ]
  },
  {
   "cell_type": "code",
   "execution_count": 85,
   "metadata": {},
   "outputs": [],
   "source": [
    "# Lectura de la imágen y modificamiento del tamaño\n",
    "img = cv.imread(\"Tapon.jpg\")\n",
    "img1 = cv.resize(img, (1208, 730))\n",
    "\n",
    "# Se muestra la imágen y se destruyen todas las ventanas al final\n",
    "cv.imshow(\"Tapón\", img1)\n",
    "cv.waitKey(0)\n",
    "cv.destroyAllWindows()\n"
   ]
  },
  {
   "cell_type": "markdown",
   "metadata": {},
   "source": [
    "### ETAPA 2"
   ]
  },
  {
   "cell_type": "code",
   "execution_count": 93,
   "metadata": {},
   "outputs": [
    {
     "name": "stdout",
     "output_type": "stream",
     "text": [
      "Cantidad de Contornos: 2142\n"
     ]
    }
   ],
   "source": [
    "# Imágen en escala de grises\n",
    "img_gr = cv.cvtColor(img1, cv.COLOR_BGR2GRAY)\n",
    "\n",
    "# Se determina el umbral\n",
    "_, umbr = cv.threshold(img_gr, 130, 250, cv.THRESH_BINARY)\n",
    "\n",
    "# Identificar los contornos\n",
    "ctn, _ = cv.findContours(umbr, cv.RETR_EXTERNAL, cv.CHAIN_APPROX_SIMPLE)\n",
    "print(f\"Cantidad de Contornos: {len(ctn)}\")\n",
    "\n",
    "# Dibujo de contornos\n",
    "cv.drawContours(img1, ctn, -1, (139, 231, 0))\n",
    "\n",
    "# Se muestra la imágen original, la misma en escala de grises y otra con su umbral\n",
    "cv.imshow(\"Tapón\", img1)\n",
    "cv.imshow(\"Tapón_gris\", img_gr)\n",
    "cv.imshow(\"Tapón_umbra\", umbr)\n",
    "cv.waitKey(0)\n",
    "cv.destroyAllWindows()"
   ]
  },
  {
   "cell_type": "markdown",
   "metadata": {},
   "source": [
    "### ETAPA 3"
   ]
  },
  {
   "cell_type": "code",
   "execution_count": 96,
   "metadata": {},
   "outputs": [
    {
     "name": "stdout",
     "output_type": "stream",
     "text": [
      "Cantidad de Contornos: 425\n"
     ]
    }
   ],
   "source": [
    "img_gr = cv.cvtColor(img1, cv.COLOR_BGR2GRAY)\n",
    "\n",
    "_, umbr = cv.threshold(img_gr, 130, 250, cv.THRESH_BINARY)\n",
    "\n",
    "ctn, _ = cv.findContours(umbr, cv.RETR_EXTERNAL, cv.CHAIN_APPROX_SIMPLE)\n",
    "print(f\"Cantidad de Contornos: {len(ctn)}\")\n",
    "\n",
    "for c in ctn:\n",
    "    x, y, w, h = cv.boundingRect(c)\n",
    "    cv.rectangle(img1, (x, y), (x+w, y+h), (139, 231, 0), 2)\n",
    "\n",
    "cv.imshow(\"Tapón\", img1)\n",
    "cv.imshow(\"Tapón_gris\", img_gr)\n",
    "cv.imshow(\"Tapón_umbra\", umbr)\n",
    "cv.waitKey(0)\n",
    "cv.destroyAllWindows()"
   ]
  }
 ],
 "metadata": {
  "kernelspec": {
   "display_name": "Python 3",
   "language": "python",
   "name": "python3"
  },
  "language_info": {
   "codemirror_mode": {
    "name": "ipython",
    "version": 3
   },
   "file_extension": ".py",
   "mimetype": "text/x-python",
   "name": "python",
   "nbconvert_exporter": "python",
   "pygments_lexer": "ipython3",
   "version": "3.11.9"
  }
 },
 "nbformat": 4,
 "nbformat_minor": 2
}
